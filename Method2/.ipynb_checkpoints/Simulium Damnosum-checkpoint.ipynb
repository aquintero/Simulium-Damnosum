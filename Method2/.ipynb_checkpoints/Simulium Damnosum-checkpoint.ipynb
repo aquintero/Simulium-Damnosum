{
 "cells": [
  {
   "cell_type": "markdown",
   "metadata": {
    "deletable": true,
    "editable": true
   },
   "source": [
    "## Applying Deep Learning Techniques to Predict Simulium Damnosum Habitat Locations\n",
    "<hr>\n",
    "### Data\n",
    "- 0.6m panchromatic and 2.4 8-band satellite data from worldview-2\n",
    "- ~30 data points of river locations and Simulium Damnosum larvae counts\n",
    "\n",
    "### Approach\n",
    "Few labeled data and an abundance of unlabeled data makes this problem suitable for a semi-supervised approach. We wil first build a variational auto encoder to extract features that we can then use a supervised approach using the labels."
   ]
  },
  {
   "cell_type": "markdown",
   "metadata": {
    "deletable": true,
    "editable": true
   },
   "source": [
    "### 1: Filter river coordinates\n",
    "Unlabeled river coordinates are highly coorelated and overlap. Decoorelating requires filtering redundant points and ensuring the selected points are well spread out. A simple way to do this is to overlay a grid on the satellite data and select at most one point from each grid cell."
   ]
  },
  {
   "cell_type": "code",
   "execution_count": 49,
   "metadata": {
    "collapsed": false,
    "deletable": true,
    "editable": true
   },
   "outputs": [
    {
     "name": "stdout",
     "output_type": "stream",
     "text": [
      "423348.0 371402.0\n"
     ]
    }
   ],
   "source": [
    "\"\"\"\n",
    "Read river points\n",
    "\"\"\"\n",
    "from osgeo import ogr\n",
    "\n",
    "river_points_file = 'data/uganda_river_points/uganda_river_points.shp'\n",
    "\n",
    "point_data = ogr.Open(river_points_file)\n",
    "    \n",
    "layer = point_data.GetLayer(0)\n",
    "points = []\n",
    "for i in range(layer.GetFeatureCount()):\n",
    "    feature = layer.GetFeature(i)\n",
    "    geometry = feature.GetGeometryRef()\n",
    "    points.append(dict(lat = geometry.GetY(), long = geometry.GetX()))\n",
    "    \n",
    "    \n",
    "\"\"\"\n",
    "Read satellite data\n",
    "\"\"\"\n",
    "\n",
    "import gdal\n",
    "import osr\n",
    "import numpy as np\n",
    "\n",
    "sat_file = 'data/sat/06/06m.tif'\n",
    "\n",
    "tif = gdal.Open(sat_file)\n",
    "width = tif.RasterXSize\n",
    "height = tif.RasterYSize\n",
    "\n",
    "geo_transform = tif.GetGeoTransform()\n",
    "\n",
    "img_space = osr.SpatialReference()\n",
    "img_space.ImportFromWkt(tif.GetProjectionRef())\n",
    "\n",
    "geo_space = osr.SpatialReference()\n",
    "geo_space.SetWellKnownGeogCS('WGS84')\n",
    "\n",
    "# Used to convert from geocoordinate space to image space\n",
    "transform = osr.CoordinateTransformation(geo_space, img_space)\n",
    "\n",
    "\"\"\"\n",
    "Convert points to image space\n",
    "\"\"\"\n",
    "\n",
    "image_points = []\n",
    "print(geo_transform[0], geo_transform[3])\n",
    "for point in points:\n",
    "    coord = np.array(transform.TransformPoint(point['long'], point['lat']))\n",
    "    coord[0] = int((coord[0] - geo_transform[0]) / geo_transform[1]) #x pixel\n",
    "    coord[1] = int((coord[1] - geo_transform[3]) / geo_transform[5]) #y pixel\n",
    "    \n",
    "    #check bounds\n",
    "    if(coord[0] < 50 or coord[1] < 50 or coord[0] >= width - 50 or coord[1] >= height - 50):\n",
    "        continue\n",
    "    image_points.append(np.array([coord[0], coord[1]], dtype = np.int))\n",
    "\n",
    "\"\"\"\n",
    "Filter points based on a grid\n",
    "\"\"\"\n",
    "\n",
    "grid_scale = 50\n",
    "filtered_points = {}\n",
    "for point in image_points:\n",
    "    grid_key = str((point / grid_scale).astype(np.int))\n",
    "    if grid_key in filtered_points:\n",
    "        continue\n",
    "    filtered_points[grid_key] = point\n",
    "\n",
    "filtered_points = np.array([v for k, v in filtered_points.items()])\n",
    "\n",
    "\"\"\"\n",
    "Randomize points to further decoorelate\n",
    "\"\"\"\n",
    "\n",
    "np.random.shuffle(filtered_points)\n",
    "\n",
    "\"\"\"\n",
    "Store filtered points as csv\n",
    "\"\"\"\n",
    "\n",
    "out_file = 'data/filtered_points.csv'\n",
    "np.savetxt(out_file, filtered_points, delimiter = ',', fmt = '%i')"
   ]
  },
  {
   "cell_type": "markdown",
   "metadata": {
    "deletable": true,
    "editable": true
   },
   "source": [
    "### 2: Extract site images\n",
    "Use unlabeled pixel coordinates as the center point for extracting image patches"
   ]
  },
  {
   "cell_type": "code",
   "execution_count": 50,
   "metadata": {
    "collapsed": false,
    "deletable": true,
    "editable": true
   },
   "outputs": [],
   "source": [
    "import gdal\n",
    "import osr\n",
    "import numpy as np\n",
    "from scipy.misc import toimage\n",
    "\n",
    "sat_file = 'data/sat/06/06m.tif'\n",
    "point_file = 'data/filtered_points.csv'\n",
    "\n",
    "tif = gdal.Open(sat_file)\n",
    "\n",
    "points = np.loadtxt(point_file, delimiter = ',')\n",
    "for i, point in enumerate(points):\n",
    "    top_left = point - 50\n",
    "    dimensions = [100, 100]\n",
    "    pixels = np.zeros((dimensions[1], dimensions[0], 3), dtype = np.uint8)\n",
    "    for band in range(1, 4):\n",
    "        raster = tif.GetRasterBand(band)\n",
    "        img_data = raster.ReadAsArray(top_left[0], top_left[1], dimensions[0], dimensions[1])\n",
    "        pixels[:, :, band - 1] = img_data\n",
    "    \n",
    "    img = toimage(pixels)\n",
    "    img.save('data/sites/{0}.png'.format(i))"
   ]
  },
  {
   "cell_type": "code",
   "execution_count": null,
   "metadata": {
    "collapsed": true,
    "deletable": true,
    "editable": true
   },
   "outputs": [],
   "source": []
  }
 ],
 "metadata": {
  "kernelspec": {
   "display_name": "Python 3",
   "language": "python",
   "name": "python3"
  },
  "language_info": {
   "codemirror_mode": {
    "name": "ipython",
    "version": 3
   },
   "file_extension": ".py",
   "mimetype": "text/x-python",
   "name": "python",
   "nbconvert_exporter": "python",
   "pygments_lexer": "ipython3",
   "version": "3.6.0"
  }
 },
 "nbformat": 4,
 "nbformat_minor": 2
}
